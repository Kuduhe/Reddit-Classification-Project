{
 "cells": [
  {
   "cell_type": "code",
   "execution_count": 1,
   "metadata": {},
   "outputs": [],
   "source": [
    "import pandas as pd\n",
    "import numpy as np\n",
    "import praw\n",
    "import matplotlib.pyplot as plt\n",
    "from psaw import PushshiftAPI\n",
    "import time\n",
    "import seaborn as sns\n"
   ]
  },
  {
   "cell_type": "markdown",
   "metadata": {},
   "source": [
    "# 1. Getting Data from reddit Using praw API wrapper"
   ]
  },
  {
   "cell_type": "code",
   "execution_count": 3,
   "metadata": {},
   "outputs": [],
   "source": [
    "reddit = praw.Reddit(client_id = '',     # this is that personal use script key\n",
    "                     client_secret = '', # this is that secret key\n",
    "                     user_agent = '',    # Whatever name you gave your application\n",
    "                     username = '',      # your Reddit user name\n",
    "                     password = '')      # your Reddit password"
   ]
  },
  {
   "cell_type": "code",
   "execution_count": 4,
   "metadata": {},
   "outputs": [],
   "source": [
    "api = PushshiftAPI(reddit)"
   ]
  },
  {
   "cell_type": "code",
   "execution_count": 5,
   "metadata": {},
   "outputs": [],
   "source": [
    "def get_dataframe(X):\n",
    "    df = {'title':[],\n",
    "          'body':[],\n",
    "          'created':[]}\n",
    "\n",
    "    counter = 0 # initializing counting variable\n",
    "    sleep_counter = 0 # initializing sleep_counter variable\n",
    "    for item in api.search_submissions(subreddit=X, limit=5_000):\n",
    "        if item.created>new:  #comment out when run this program first time, since we need go get all the data\n",
    "            df[\"title\"].append(item.title)\n",
    "            df[\"created\"].append(item.created)\n",
    "            df[\"body\"].append(item.selftext)\n",
    "            counter +=1\n",
    "            sleep_counter += 1\n",
    "            if sleep_counter > 999:\n",
    "                print(counter)\n",
    "                time.sleep(3)\n",
    "                sleep_counter = 0 \n",
    "    return pd.DataFrame(df)"
   ]
  },
  {
   "cell_type": "code",
   "execution_count": 6,
   "metadata": {
    "scrolled": true
   },
   "outputs": [],
   "source": [
    "# Only run in the first time\n",
    "# wow = get_dataframe('wow')\n",
    "# wow_c = get_dataframe('classicwow')\n",
    "# wow.to_csv('./dataset/20191019_wow.csv')\n",
    "# wow_c.to_csv('./dataset/20191019_wow_c.csv')\n"
   ]
  },
  {
   "cell_type": "code",
   "execution_count": 7,
   "metadata": {},
   "outputs": [],
   "source": [
    "def cleaning(dfx):\n",
    "    dfx.replace('[已移除]', '', inplace = True)\n",
    "    dfx.replace('[刪除]', '', inplace = True)\n",
    "    return dfx"
   ]
  },
  {
   "cell_type": "markdown",
   "metadata": {},
   "source": [
    "# 2. Cleaning Text data"
   ]
  },
  {
   "cell_type": "code",
   "execution_count": 8,
   "metadata": {},
   "outputs": [],
   "source": [
    "from nltk.tokenize import RegexpTokenizer\n",
    "from nltk.stem.porter import PorterStemmer"
   ]
  },
  {
   "cell_type": "code",
   "execution_count": 9,
   "metadata": {},
   "outputs": [],
   "source": [
    "tokenizer = RegexpTokenizer('(?u)\\\\b\\\\w\\\\w+\\\\b')"
   ]
  },
  {
   "cell_type": "code",
   "execution_count": 10,
   "metadata": {},
   "outputs": [],
   "source": [
    "def magic(df1, df2):\n",
    "    df1 = cleaning(df1)\n",
    "    df2 = cleaning(df2)\n",
    "    df1['X'] = df1['title'] + df1['body']\n",
    "    df1['y'] = 1\n",
    "    df2['X'] = df2['title'] + df2['body']\n",
    "    df2['y'] = 0\n",
    "    df1['Xs'] = [' '.join([PorterStemmer().stem(i) for i in tokenizer.tokenize(j)]) for j in df1['X']]\n",
    "    df2['Xs'] = [' '.join([PorterStemmer().stem(i) for i in tokenizer.tokenize(j)]) for j in df2['X']] \n",
    "    return pd.concat([df1,df2], axis = 0, ignore_index= True)"
   ]
  },
  {
   "cell_type": "code",
   "execution_count": 11,
   "metadata": {},
   "outputs": [],
   "source": [
    "# run for the first time. save combined data into df_combine.csv\n",
    "# df = magic(wow,wow_c)\n",
    "# df.to_csv('./dataset/df_combine.csv')"
   ]
  },
  {
   "cell_type": "code",
   "execution_count": 12,
   "metadata": {},
   "outputs": [],
   "source": [
    "# After saving the data and \n",
    "wow = pd.read_csv('./dataset/20191019_wow.csv')\n",
    "wow_c =  pd.read_csv('./dataset/20191019_wow_c.csv')\n",
    "df = pd.read_csv('./dataset/df_combine.csv')\n",
    "# y variable 0 means wow_classic, 1 means wow"
   ]
  },
  {
   "cell_type": "code",
   "execution_count": 13,
   "metadata": {},
   "outputs": [
    {
     "data": {
      "text/plain": [
       "Timestamp('2019-10-15 21:16:53')"
      ]
     },
     "execution_count": 13,
     "metadata": {},
     "output_type": "execute_result"
    }
   ],
   "source": [
    "new = wow['created'].sort_values(ascending = False)[0]\n",
    "\n",
    "import datetime as dt\n",
    "date = dt.datetime.fromtimestamp(new)\n",
    "pd.to_datetime(date)"
   ]
  },
  {
   "cell_type": "markdown",
   "metadata": {},
   "source": [
    "# 3. Start to making Model"
   ]
  },
  {
   "cell_type": "code",
   "execution_count": 14,
   "metadata": {},
   "outputs": [],
   "source": [
    "from sklearn.model_selection import GridSearchCV\n",
    "from sklearn.feature_extraction.text import CountVectorizer, TfidfVectorizer\n",
    "from sklearn.linear_model import LogisticRegression\n",
    "from sklearn.pipeline import Pipeline\n",
    "from sklearn.neighbors import KNeighborsClassifier\n",
    "from sklearn.tree import DecisionTreeClassifier\n",
    "from sklearn.model_selection import train_test_split\n",
    "from nltk.corpus import stopwords\n",
    "from sklearn.naive_bayes import MultinomialNB\n",
    "from sklearn.ensemble import RandomForestClassifier\n",
    "from sklearn.metrics import confusion_matrix\n",
    "from sklearn.svm import SVC"
   ]
  },
  {
   "cell_type": "code",
   "execution_count": 109,
   "metadata": {},
   "outputs": [],
   "source": [
    "# Found the top 50 common words for both subreddit and add them together with stop words\n",
    "dwords = pd.read_csv('./dataset/duplicatewords.csv')"
   ]
  },
  {
   "cell_type": "code",
   "execution_count": 110,
   "metadata": {},
   "outputs": [],
   "source": [
    "dwords.drop('Unnamed: 0', axis = 1, inplace = True)"
   ]
  },
  {
   "cell_type": "code",
   "execution_count": 111,
   "metadata": {},
   "outputs": [],
   "source": [
    "dwords = [i for i in dwords['0']]"
   ]
  },
  {
   "cell_type": "code",
   "execution_count": 112,
   "metadata": {},
   "outputs": [],
   "source": [
    "stop = stopwords.words('english') + dwords"
   ]
  },
  {
   "cell_type": "code",
   "execution_count": 113,
   "metadata": {},
   "outputs": [],
   "source": [
    "df = df[df['Xs'].notnull()]"
   ]
  },
  {
   "cell_type": "code",
   "execution_count": 114,
   "metadata": {},
   "outputs": [],
   "source": [
    "X = df['Xs'] # using stemed data to make model\n",
    "y = df['y']\n",
    "\n",
    "X_train, X_test, y_train, y_test = train_test_split(X,y, random_state = 42)"
   ]
  },
  {
   "cell_type": "code",
   "execution_count": 93,
   "metadata": {},
   "outputs": [],
   "source": [
    "# initialize CountVectorizer and TfidVectorizer\n",
    "cvect = CountVectorizer(max_features= 3000, stop_words= stop, ngram_range=(1,2))\n",
    "tvect = TfidfVectorizer(max_features= 3000, stop_words= stop, ngram_range=(1,2))"
   ]
  },
  {
   "cell_type": "code",
   "execution_count": 94,
   "metadata": {},
   "outputs": [],
   "source": [
    "# Transform for cvect and tvect and for training and testing\n",
    "Xcvect_tr = pd.DataFrame(cvect.fit_transform(X_train).toarray() ,columns = cvect.get_feature_names())\n",
    "Xcvect_te = pd.DataFrame(cvect.transform(X_test).toarray() ,columns = cvect.get_feature_names())\n",
    "\n",
    "Xtvect_tr = pd.DataFrame(tvect.fit_transform(X_train).toarray() ,columns = tvect.get_feature_names())\n",
    "Xtvect_te = pd.DataFrame(tvect.transform(X_test).toarray() ,columns = tvect.get_feature_names())"
   ]
  },
  {
   "cell_type": "code",
   "execution_count": 95,
   "metadata": {},
   "outputs": [],
   "source": [
    "# Run first time to get duplicate words\n",
    "# xt = Xtvect_tr.T\n",
    "# xt['sum']=[Xtvect_tr.T.iloc[i,:].sum() for i in range(len(Xtvect_tr.T))]\n",
    "# dwords = xt.sort_values('sum', ascending = False).head(50).index\n",
    "# pd.DataFrame(list(dwords)).to_csv('./dataset/duplicatewords.csv')"
   ]
  },
  {
   "cell_type": "markdown",
   "metadata": {},
   "source": [
    "## 3.1 Setting Parameter"
   ]
  },
  {
   "cell_type": "code",
   "execution_count": 96,
   "metadata": {},
   "outputs": [],
   "source": [
    "pipe_log = {\n",
    "            'C':[1e-9,1,1e9]\n",
    "            }\n",
    "\n",
    "pipe_knn = {\n",
    "            'n_neighbors':[3,7,10,15]\n",
    "           }\n",
    "\n",
    "pipe_dt = {'max_depth':[5,7,9],\n",
    "          'min_samples_split':[7,11,15],\n",
    "          'min_samples_leaf':[3,4,5,6]\n",
    "          }\n",
    "pipe_mu = {}\n",
    "\n",
    "pipe_svc = {\n",
    "            'C':[1e-5,1,1e5],\n",
    "            'kernel':['rbf']\n",
    "}\n",
    "\n",
    "pipe_rf = {\n",
    "        'n_estimators':[5,10,20],\n",
    "        'max_depth':[3,4],\n",
    "        'min_samples_leaf':[4,5,6]\n",
    "}"
   ]
  },
  {
   "cell_type": "markdown",
   "metadata": {},
   "source": [
    "## 3.2 Setting GridSearch model\n",
    "##### Using, LogisticRegression, Knn, DecisionTree, Multinomial, SVC"
   ]
  },
  {
   "cell_type": "code",
   "execution_count": 97,
   "metadata": {},
   "outputs": [],
   "source": [
    "g_log = GridSearchCV(LogisticRegression(), pipe_log, cv = 5)\n",
    "g_knn = GridSearchCV(KNeighborsClassifier(), pipe_knn, cv = 5)\n",
    "g_dt = GridSearchCV(DecisionTreeClassifier(), pipe_dt, cv = 5) \n",
    "g_mu = GridSearchCV(MultinomialNB(), pipe_mu, cv = 5)\n",
    "g_svc = GridSearchCV(SVC(), pipe_svc , cv = 5)\n",
    "g_rf = GridSearchCV(RandomForestClassifier(), pipe_rf, cv = 5)"
   ]
  },
  {
   "cell_type": "code",
   "execution_count": 98,
   "metadata": {},
   "outputs": [],
   "source": [
    "import time\n",
    "import warnings\n",
    "warnings.filterwarnings(\"ignore\") #ignore warning"
   ]
  },
  {
   "cell_type": "code",
   "execution_count": 99,
   "metadata": {},
   "outputs": [],
   "source": [
    "# Using this function to get score for training, testing and operate time\n",
    "def get_score(Xtrain,Xtest,y,g_model):\n",
    "    t0 = time.time()\n",
    "    g_model.fit(Xtrain,y)\n",
    "    model = g_model.best_estimator_\n",
    "    param = g_model.best_params_\n",
    "    t1 = time.time() - t0\n",
    "    return [model.score(Xtrain, y_train), model.score(Xtest, y_test), param, t1] "
   ]
  },
  {
   "cell_type": "code",
   "execution_count": 100,
   "metadata": {},
   "outputs": [],
   "source": [
    "models = [g_log, \n",
    "#           g_knn, comment out because it will take long time to run\n",
    "#           g_dt, comment out because it will take long time to run\n",
    "          g_mu, \n",
    "          g_rf,\n",
    "#           g_svc, comment out because it will take long time to run\n",
    "         ]\n",
    "di = {g_log:'Logistic',\n",
    "     g_knn:'Knn',\n",
    "     g_dt:'Decision Tree',\n",
    "     g_mu:'Multinomial',\n",
    "     g_rf:'Random Forest',\n",
    "     g_svc:'SVC'\n",
    "     }"
   ]
  },
  {
   "cell_type": "code",
   "execution_count": 101,
   "metadata": {},
   "outputs": [],
   "source": [
    "list_of_result = []"
   ]
  },
  {
   "cell_type": "code",
   "execution_count": 102,
   "metadata": {},
   "outputs": [],
   "source": [
    "# getting a dataframe of result\n",
    "# WARNING: run this cell is going to take long time\n",
    "for i in models:\n",
    "    list_of_result.append( [di[i]] + ['Cvect'] + get_score(Xcvect_tr, Xcvect_te, y_train, i))\n",
    "    list_of_result.append( [di[i]] + ['Tvect'] + get_score(Xtvect_tr, Xtvect_te, y_train, i))\n",
    "result = pd.DataFrame(list_of_result, columns = [ 'Model', 'V method','Train Score','Test Score', 'Best Param','Time to run'])"
   ]
  },
  {
   "cell_type": "code",
   "execution_count": 103,
   "metadata": {},
   "outputs": [
    {
     "data": {
      "text/html": [
       "<div>\n",
       "<style scoped>\n",
       "    .dataframe tbody tr th:only-of-type {\n",
       "        vertical-align: middle;\n",
       "    }\n",
       "\n",
       "    .dataframe tbody tr th {\n",
       "        vertical-align: top;\n",
       "    }\n",
       "\n",
       "    .dataframe thead th {\n",
       "        text-align: right;\n",
       "    }\n",
       "</style>\n",
       "<table border=\"1\" class=\"dataframe\">\n",
       "  <thead>\n",
       "    <tr style=\"text-align: right;\">\n",
       "      <th></th>\n",
       "      <th>Model</th>\n",
       "      <th>V method</th>\n",
       "      <th>Train Score</th>\n",
       "      <th>Test Score</th>\n",
       "      <th>Best Param</th>\n",
       "      <th>Time to run</th>\n",
       "    </tr>\n",
       "  </thead>\n",
       "  <tbody>\n",
       "    <tr>\n",
       "      <td>0</td>\n",
       "      <td>Logistic</td>\n",
       "      <td>Cvect</td>\n",
       "      <td>0.871247</td>\n",
       "      <td>0.740696</td>\n",
       "      <td>{'C': 1}</td>\n",
       "      <td>5.741941</td>\n",
       "    </tr>\n",
       "    <tr>\n",
       "      <td>1</td>\n",
       "      <td>Logistic</td>\n",
       "      <td>Tvect</td>\n",
       "      <td>0.846031</td>\n",
       "      <td>0.751501</td>\n",
       "      <td>{'C': 1}</td>\n",
       "      <td>14.743778</td>\n",
       "    </tr>\n",
       "    <tr>\n",
       "      <td>2</td>\n",
       "      <td>Multinomial</td>\n",
       "      <td>Cvect</td>\n",
       "      <td>0.788125</td>\n",
       "      <td>0.745098</td>\n",
       "      <td>{}</td>\n",
       "      <td>1.127007</td>\n",
       "    </tr>\n",
       "    <tr>\n",
       "      <td>3</td>\n",
       "      <td>Multinomial</td>\n",
       "      <td>Tvect</td>\n",
       "      <td>0.824016</td>\n",
       "      <td>0.749100</td>\n",
       "      <td>{}</td>\n",
       "      <td>0.659860</td>\n",
       "    </tr>\n",
       "    <tr>\n",
       "      <td>4</td>\n",
       "      <td>Random Forest</td>\n",
       "      <td>Cvect</td>\n",
       "      <td>0.656971</td>\n",
       "      <td>0.649060</td>\n",
       "      <td>{'max_depth': 4, 'min_samples_leaf': 6, 'n_est...</td>\n",
       "      <td>24.801034</td>\n",
       "    </tr>\n",
       "    <tr>\n",
       "      <td>5</td>\n",
       "      <td>Random Forest</td>\n",
       "      <td>Tvect</td>\n",
       "      <td>0.645497</td>\n",
       "      <td>0.626251</td>\n",
       "      <td>{'max_depth': 4, 'min_samples_leaf': 6, 'n_est...</td>\n",
       "      <td>24.954626</td>\n",
       "    </tr>\n",
       "  </tbody>\n",
       "</table>\n",
       "</div>"
      ],
      "text/plain": [
       "           Model V method  Train Score  Test Score  \\\n",
       "0       Logistic    Cvect     0.871247    0.740696   \n",
       "1       Logistic    Tvect     0.846031    0.751501   \n",
       "2    Multinomial    Cvect     0.788125    0.745098   \n",
       "3    Multinomial    Tvect     0.824016    0.749100   \n",
       "4  Random Forest    Cvect     0.656971    0.649060   \n",
       "5  Random Forest    Tvect     0.645497    0.626251   \n",
       "\n",
       "                                          Best Param  Time to run  \n",
       "0                                           {'C': 1}     5.741941  \n",
       "1                                           {'C': 1}    14.743778  \n",
       "2                                                 {}     1.127007  \n",
       "3                                                 {}     0.659860  \n",
       "4  {'max_depth': 4, 'min_samples_leaf': 6, 'n_est...    24.801034  \n",
       "5  {'max_depth': 4, 'min_samples_leaf': 6, 'n_est...    24.954626  "
      ]
     },
     "execution_count": 103,
     "metadata": {},
     "output_type": "execute_result"
    }
   ],
   "source": [
    "result"
   ]
  },
  {
   "cell_type": "code",
   "execution_count": 104,
   "metadata": {},
   "outputs": [],
   "source": [
    "# based on the table above, we can see the model with the best test score is logistic model that has C=1 with Tvect\n",
    "model = LogisticRegression(C = 1)"
   ]
  },
  {
   "cell_type": "code",
   "execution_count": 105,
   "metadata": {},
   "outputs": [
    {
     "data": {
      "text/plain": [
       "LogisticRegression(C=1, class_weight=None, dual=False, fit_intercept=True,\n",
       "                   intercept_scaling=1, l1_ratio=None, max_iter=100,\n",
       "                   multi_class='warn', n_jobs=None, penalty='l2',\n",
       "                   random_state=None, solver='warn', tol=0.0001, verbose=0,\n",
       "                   warm_start=False)"
      ]
     },
     "execution_count": 105,
     "metadata": {},
     "output_type": "execute_result"
    }
   ],
   "source": [
    "model.fit(Xtvect_tr, y_train)"
   ]
  },
  {
   "cell_type": "code",
   "execution_count": 106,
   "metadata": {},
   "outputs": [],
   "source": [
    "coef1 = pd.DataFrame(zip(Xtvect_tr.columns, model.coef_.ravel()), columns = ['words','coef']).sort_values('coef').head(10)\n",
    "coef2 = pd.DataFrame(zip(Xtvect_tr.columns, model.coef_.ravel()), columns = ['words','coef']).sort_values('coef').tail(10)\n"
   ]
  },
  {
   "cell_type": "code",
   "execution_count": 107,
   "metadata": {},
   "outputs": [
    {
     "data": {
      "text/html": [
       "<div>\n",
       "<style scoped>\n",
       "    .dataframe tbody tr th:only-of-type {\n",
       "        vertical-align: middle;\n",
       "    }\n",
       "\n",
       "    .dataframe tbody tr th {\n",
       "        vertical-align: top;\n",
       "    }\n",
       "\n",
       "    .dataframe thead th {\n",
       "        text-align: right;\n",
       "    }\n",
       "</style>\n",
       "<table border=\"1\" class=\"dataframe\">\n",
       "  <thead>\n",
       "    <tr style=\"text-align: right;\">\n",
       "      <th></th>\n",
       "      <th>words</th>\n",
       "      <th>coef</th>\n",
       "    </tr>\n",
       "  </thead>\n",
       "  <tbody>\n",
       "    <tr>\n",
       "      <td>76</td>\n",
       "      <td>60</td>\n",
       "      <td>-3.979253</td>\n",
       "    </tr>\n",
       "    <tr>\n",
       "      <td>1955</td>\n",
       "      <td>phase</td>\n",
       "      <td>-2.773494</td>\n",
       "    </tr>\n",
       "    <tr>\n",
       "      <td>1609</td>\n",
       "      <td>macro</td>\n",
       "      <td>-2.575144</td>\n",
       "    </tr>\n",
       "    <tr>\n",
       "      <td>343</td>\n",
       "      <td>bi</td>\n",
       "      <td>-2.372088</td>\n",
       "    </tr>\n",
       "    <tr>\n",
       "      <td>2240</td>\n",
       "      <td>roll</td>\n",
       "      <td>-2.327351</td>\n",
       "    </tr>\n",
       "    <tr>\n",
       "      <td>1518</td>\n",
       "      <td>layer</td>\n",
       "      <td>-2.209168</td>\n",
       "    </tr>\n",
       "    <tr>\n",
       "      <td>800</td>\n",
       "      <td>dm</td>\n",
       "      <td>-2.172165</td>\n",
       "    </tr>\n",
       "    <tr>\n",
       "      <td>1657</td>\n",
       "      <td>mc</td>\n",
       "      <td>-1.980699</td>\n",
       "    </tr>\n",
       "    <tr>\n",
       "      <td>415</td>\n",
       "      <td>brd</td>\n",
       "      <td>-1.944661</td>\n",
       "    </tr>\n",
       "    <tr>\n",
       "      <td>1711</td>\n",
       "      <td>mob</td>\n",
       "      <td>-1.894126</td>\n",
       "    </tr>\n",
       "  </tbody>\n",
       "</table>\n",
       "</div>"
      ],
      "text/plain": [
       "      words      coef\n",
       "76       60 -3.979253\n",
       "1955  phase -2.773494\n",
       "1609  macro -2.575144\n",
       "343      bi -2.372088\n",
       "2240   roll -2.327351\n",
       "1518  layer -2.209168\n",
       "800      dm -2.172165\n",
       "1657     mc -1.980699\n",
       "415     brd -1.944661\n",
       "1711    mob -1.894126"
      ]
     },
     "execution_count": 107,
     "metadata": {},
     "output_type": "execute_result"
    }
   ],
   "source": [
    "coef1 # top 10 coefficient to predict wow_c"
   ]
  },
  {
   "cell_type": "code",
   "execution_count": 108,
   "metadata": {},
   "outputs": [
    {
     "data": {
      "text/html": [
       "<div>\n",
       "<style scoped>\n",
       "    .dataframe tbody tr th:only-of-type {\n",
       "        vertical-align: middle;\n",
       "    }\n",
       "\n",
       "    .dataframe tbody tr th {\n",
       "        vertical-align: top;\n",
       "    }\n",
       "\n",
       "    .dataframe thead th {\n",
       "        text-align: right;\n",
       "    }\n",
       "</style>\n",
       "<table border=\"1\" class=\"dataframe\">\n",
       "  <thead>\n",
       "    <tr style=\"text-align: right;\">\n",
       "      <th></th>\n",
       "      <th>words</th>\n",
       "      <th>coef</th>\n",
       "    </tr>\n",
       "  </thead>\n",
       "  <tbody>\n",
       "    <tr>\n",
       "      <td>340</td>\n",
       "      <td>bfa</td>\n",
       "      <td>3.763195</td>\n",
       "    </tr>\n",
       "    <tr>\n",
       "      <td>2574</td>\n",
       "      <td>sylvana</td>\n",
       "      <td>3.473401</td>\n",
       "    </tr>\n",
       "    <tr>\n",
       "      <td>1763</td>\n",
       "      <td>mythic</td>\n",
       "      <td>3.263303</td>\n",
       "    </tr>\n",
       "    <tr>\n",
       "      <td>2845</td>\n",
       "      <td>vulpera</td>\n",
       "      <td>3.125414</td>\n",
       "    </tr>\n",
       "    <tr>\n",
       "      <td>13</td>\n",
       "      <td>120</td>\n",
       "      <td>2.836303</td>\n",
       "    </tr>\n",
       "    <tr>\n",
       "      <td>2997</td>\n",
       "      <td>zoth</td>\n",
       "      <td>2.658198</td>\n",
       "    </tr>\n",
       "    <tr>\n",
       "      <td>1661</td>\n",
       "      <td>mechagnom</td>\n",
       "      <td>2.654267</td>\n",
       "    </tr>\n",
       "    <tr>\n",
       "      <td>965</td>\n",
       "      <td>expans</td>\n",
       "      <td>2.593530</td>\n",
       "    </tr>\n",
       "    <tr>\n",
       "      <td>225</td>\n",
       "      <td>art</td>\n",
       "      <td>2.592319</td>\n",
       "    </tr>\n",
       "    <tr>\n",
       "      <td>2931</td>\n",
       "      <td>worgen</td>\n",
       "      <td>2.553720</td>\n",
       "    </tr>\n",
       "  </tbody>\n",
       "</table>\n",
       "</div>"
      ],
      "text/plain": [
       "          words      coef\n",
       "340         bfa  3.763195\n",
       "2574    sylvana  3.473401\n",
       "1763     mythic  3.263303\n",
       "2845    vulpera  3.125414\n",
       "13          120  2.836303\n",
       "2997       zoth  2.658198\n",
       "1661  mechagnom  2.654267\n",
       "965      expans  2.593530\n",
       "225         art  2.592319\n",
       "2931     worgen  2.553720"
      ]
     },
     "execution_count": 108,
     "metadata": {},
     "output_type": "execute_result"
    }
   ],
   "source": [
    "coef2[::-1] # top 10 coefficient to predict wow"
   ]
  },
  {
   "cell_type": "code",
   "execution_count": 75,
   "metadata": {},
   "outputs": [],
   "source": [
    "proba = pd.DataFrame(model.predict_proba(Xtvect_te))"
   ]
  },
  {
   "cell_type": "code",
   "execution_count": 76,
   "metadata": {},
   "outputs": [],
   "source": [
    "graph = pd.concat([proba,y_test.reset_index()['y']], axis = 1, ignore_index=True)[[1,2]]"
   ]
  },
  {
   "cell_type": "code",
   "execution_count": 77,
   "metadata": {},
   "outputs": [],
   "source": [
    "graph.columns = ['proba','y']"
   ]
  },
  {
   "cell_type": "code",
   "execution_count": 78,
   "metadata": {},
   "outputs": [
    {
     "data": {
      "image/png": "[encoded data removed]",
      "text/plain": [
       "<Figure size 576x576 with 1 Axes>"
      ]
     },
     "metadata": {
      "needs_background": "light"
     },
     "output_type": "display_data"
    }
   ],
   "source": [
    "# Visulising the prediction vs the actually y, we can see it's very related\n",
    "plt.figure(figsize=(8,8))\n",
    "sns.distplot(graph[graph['y'] == 0]['proba'], color ='orange', bins = 20);\n",
    "sns.distplot(graph[graph['y'] == 1]['proba'], color ='blue', bins = 20);\n",
    "\n",
    "plt.legend(['Actual 0: WOW_c','Actual 1: WOW'],loc = 'upper right')\n",
    "plt.xlabel('Prediction distribution', size = 15);\n",
    "# plt.xlim((0,1));"
   ]
  },
  {
   "cell_type": "code",
   "execution_count": 79,
   "metadata": {},
   "outputs": [
    {
     "data": {
      "text/html": [
       "<div>\n",
       "<style scoped>\n",
       "    .dataframe tbody tr th:only-of-type {\n",
       "        vertical-align: middle;\n",
       "    }\n",
       "\n",
       "    .dataframe tbody tr th {\n",
       "        vertical-align: top;\n",
       "    }\n",
       "\n",
       "    .dataframe thead th {\n",
       "        text-align: right;\n",
       "    }\n",
       "</style>\n",
       "<table border=\"1\" class=\"dataframe\">\n",
       "  <thead>\n",
       "    <tr style=\"text-align: right;\">\n",
       "      <th></th>\n",
       "      <th>Predict to be WOW_c</th>\n",
       "      <th>Predict to be WOW</th>\n",
       "    </tr>\n",
       "  </thead>\n",
       "  <tbody>\n",
       "    <tr>\n",
       "      <td>WOW_c</td>\n",
       "      <td>966</td>\n",
       "      <td>338</td>\n",
       "    </tr>\n",
       "    <tr>\n",
       "      <td>WOW</td>\n",
       "      <td>273</td>\n",
       "      <td>922</td>\n",
       "    </tr>\n",
       "  </tbody>\n",
       "</table>\n",
       "</div>"
      ],
      "text/plain": [
       "       Predict to be WOW_c  Predict to be WOW\n",
       "WOW_c                  966                338\n",
       "WOW                    273                922"
      ]
     },
     "execution_count": 79,
     "metadata": {},
     "output_type": "execute_result"
    }
   ],
   "source": [
    "#getting the confusion matrix\n",
    "pd.DataFrame(confusion_matrix(model.predict(Xtvect_te),y_test), \n",
    "             columns = ['Predict to be WOW_c', 'Predict to be WOW'], \n",
    "             index = ['WOW_c','WOW'])"
   ]
  },
  {
   "cell_type": "markdown",
   "metadata": {},
   "source": [
    "## 3.3 Sentiment Analysis"
   ]
  },
  {
   "cell_type": "code",
   "execution_count": 80,
   "metadata": {},
   "outputs": [],
   "source": [
    "from textblob import TextBlob, Word"
   ]
  },
  {
   "cell_type": "code",
   "execution_count": 81,
   "metadata": {},
   "outputs": [],
   "source": [
    "sentiment_set = df[['X','y']]"
   ]
  },
  {
   "cell_type": "code",
   "execution_count": 82,
   "metadata": {},
   "outputs": [],
   "source": [
    "wow_c_sentiment = [(TextBlob(i).sentiment[0],TextBlob(i).sentiment[1]) for i in sentiment_set[sentiment_set['y']==0]['X']]\n",
    "wow_sentiment = [(TextBlob(i).sentiment[0],TextBlob(i).sentiment[1]) for i in sentiment_set[sentiment_set['y']==1]['X']]"
   ]
  },
  {
   "cell_type": "code",
   "execution_count": 83,
   "metadata": {},
   "outputs": [],
   "source": [
    "wow_c_sentiment = pd.DataFrame(wow_c_sentiment, columns = ['polarity','subjectivity'])\n",
    "wow_sentiment = pd.DataFrame(wow_sentiment, columns = ['polarity','subjectivity'])"
   ]
  },
  {
   "cell_type": "code",
   "execution_count": 91,
   "metadata": {},
   "outputs": [],
   "source": [
    "wow_c_sentiment['positive'] = wow_c_sentiment['polarity'].map(lambda x : 1 if x >0 else 0 )\n",
    "wow_sentiment['positive'] = wow_sentiment['polarity'].map(lambda x : 1 if x >0 else 0 )"
   ]
  },
  {
   "cell_type": "code",
   "execution_count": 92,
   "metadata": {},
   "outputs": [
    {
     "data": {
      "text/plain": [
       "0.4774774774774775"
      ]
     },
     "execution_count": 92,
     "metadata": {},
     "output_type": "execute_result"
    }
   ],
   "source": [
    "wow_c_sentiment['positive'].mean()"
   ]
  },
  {
   "cell_type": "code",
   "execution_count": 93,
   "metadata": {},
   "outputs": [
    {
     "data": {
      "text/plain": [
       "0.47889577915583115"
      ]
     },
     "execution_count": 93,
     "metadata": {},
     "output_type": "execute_result"
    }
   ],
   "source": [
    "wow_sentiment['positive'].mean()"
   ]
  },
  {
   "cell_type": "code",
   "execution_count": 41,
   "metadata": {},
   "outputs": [
    {
     "name": "stdout",
     "output_type": "stream",
     "text": [
      "Polarity for WOW posting 0.08316940421851383\n",
      "Polarity for WOW Classic posting 0.08013078280058208\n",
      "Subjectivity for WOW posting 0.3656589806882277\n",
      "Subjectivity for WOW Classic posting 0.33989935918670333\n"
     ]
    }
   ],
   "source": [
    "print(f\"Polarity for WOW posting {wow_sentiment['polarity'].mean()}\")\n",
    "print(f\"Polarity for WOW Classic posting {wow_c_sentiment['polarity'].mean()}\")\n",
    "print(f\"Subjectivity for WOW posting {wow_sentiment['subjectivity'].mean()}\")\n",
    "print(f\"Subjectivity for WOW Classic posting {wow_c_sentiment['subjectivity'].mean()}\")"
   ]
  },
  {
   "cell_type": "markdown",
   "metadata": {},
   "source": [
    "## 4. Getting new posts to test accuracy of the model"
   ]
  },
  {
   "cell_type": "code",
   "execution_count": 24,
   "metadata": {},
   "outputs": [
    {
     "name": "stdout",
     "output_type": "stream",
     "text": [
      "1000\n"
     ]
    }
   ],
   "source": [
    "new_wow = get_dataframe('wow')\n",
    "new_wow_c = get_dataframe('classicwow')"
   ]
  },
  {
   "cell_type": "code",
   "execution_count": 27,
   "metadata": {},
   "outputs": [],
   "source": [
    "dft = magic(new_wow, new_wow_c) # data cleaning and creating stem features"
   ]
  },
  {
   "cell_type": "code",
   "execution_count": 28,
   "metadata": {},
   "outputs": [],
   "source": [
    "Xnew = dft['Xs']\n",
    "ynew = dft['y']"
   ]
  },
  {
   "cell_type": "code",
   "execution_count": 29,
   "metadata": {},
   "outputs": [
    {
     "data": {
      "text/plain": [
       "1977"
      ]
     },
     "execution_count": 29,
     "metadata": {},
     "output_type": "execute_result"
    }
   ],
   "source": [
    "#numnber of new post\n",
    "len(dft)"
   ]
  },
  {
   "cell_type": "code",
   "execution_count": 45,
   "metadata": {},
   "outputs": [
    {
     "data": {
      "image/png": "[encoded data removed]",
      "text/plain": [
       "<Figure size 432x288 with 1 Axes>"
      ]
     },
     "metadata": {
      "needs_background": "light"
     },
     "output_type": "display_data"
    }
   ],
   "source": [
    "# Number of new post, 0 is wow_c, 1 is wow\n",
    "p = dft['y'].value_counts().plot.bar();"
   ]
  },
  {
   "cell_type": "code",
   "execution_count": 30,
   "metadata": {},
   "outputs": [],
   "source": [
    "Xnew_t = pd.DataFrame(tvect.transform(Xnew).toarray() ,columns = tvect.get_feature_names())"
   ]
  },
  {
   "cell_type": "code",
   "execution_count": 31,
   "metadata": {},
   "outputs": [],
   "source": [
    "outcome = pd.DataFrame(confusion_matrix(model.predict(Xnew_t),ynew), \n",
    "             columns = ['Predict to be WOW_c', 'Predict to be WOW'], \n",
    "             index = ['WOW_c','WOW'])"
   ]
  },
  {
   "cell_type": "code",
   "execution_count": 32,
   "metadata": {},
   "outputs": [
    {
     "data": {
      "text/html": [
       "<div>\n",
       "<style scoped>\n",
       "    .dataframe tbody tr th:only-of-type {\n",
       "        vertical-align: middle;\n",
       "    }\n",
       "\n",
       "    .dataframe tbody tr th {\n",
       "        vertical-align: top;\n",
       "    }\n",
       "\n",
       "    .dataframe thead th {\n",
       "        text-align: right;\n",
       "    }\n",
       "</style>\n",
       "<table border=\"1\" class=\"dataframe\">\n",
       "  <thead>\n",
       "    <tr style=\"text-align: right;\">\n",
       "      <th></th>\n",
       "      <th>Predict to be WOW_c</th>\n",
       "      <th>Predict to be WOW</th>\n",
       "    </tr>\n",
       "  </thead>\n",
       "  <tbody>\n",
       "    <tr>\n",
       "      <td>WOW_c</td>\n",
       "      <td>1144</td>\n",
       "      <td>131</td>\n",
       "    </tr>\n",
       "    <tr>\n",
       "      <td>WOW</td>\n",
       "      <td>268</td>\n",
       "      <td>434</td>\n",
       "    </tr>\n",
       "  </tbody>\n",
       "</table>\n",
       "</div>"
      ],
      "text/plain": [
       "       Predict to be WOW_c  Predict to be WOW\n",
       "WOW_c                 1144                131\n",
       "WOW                    268                434"
      ]
     },
     "execution_count": 32,
     "metadata": {},
     "output_type": "execute_result"
    }
   ],
   "source": [
    "outcome # confusion matrix"
   ]
  },
  {
   "cell_type": "code",
   "execution_count": 33,
   "metadata": {},
   "outputs": [
    {
     "data": {
      "text/plain": [
       "0.7981790591805766"
      ]
     },
     "execution_count": 33,
     "metadata": {},
     "output_type": "execute_result"
    }
   ],
   "source": [
    "model.score(Xnew_t, ynew) #accuracy"
   ]
  },
  {
   "cell_type": "code",
   "execution_count": 34,
   "metadata": {},
   "outputs": [],
   "source": [
    "mistake = dft[model.predict(Xnew_t) != ynew]"
   ]
  },
  {
   "cell_type": "code",
   "execution_count": 35,
   "metadata": {},
   "outputs": [
    {
     "data": {
      "text/html": [
       "<div>\n",
       "<style scoped>\n",
       "    .dataframe tbody tr th:only-of-type {\n",
       "        vertical-align: middle;\n",
       "    }\n",
       "\n",
       "    .dataframe tbody tr th {\n",
       "        vertical-align: top;\n",
       "    }\n",
       "\n",
       "    .dataframe thead th {\n",
       "        text-align: right;\n",
       "    }\n",
       "</style>\n",
       "<table border=\"1\" class=\"dataframe\">\n",
       "  <thead>\n",
       "    <tr style=\"text-align: right;\">\n",
       "      <th></th>\n",
       "      <th>title</th>\n",
       "      <th>body</th>\n",
       "      <th>created</th>\n",
       "      <th>X</th>\n",
       "      <th>y</th>\n",
       "      <th>Xs</th>\n",
       "    </tr>\n",
       "  </thead>\n",
       "  <tbody>\n",
       "    <tr>\n",
       "      <td>7</td>\n",
       "      <td>Hallow's End Guide! With Spreadsheet</td>\n",
       "      <td>Hello just wanted to share this with yall i s...</td>\n",
       "      <td>1.571438e+09</td>\n",
       "      <td>Hallow's End Guide! With Spreadsheet Hello jus...</td>\n",
       "      <td>1</td>\n",
       "      <td>hallow end guid with spreadsheet hello just wa...</td>\n",
       "    </tr>\n",
       "    <tr>\n",
       "      <td>14</td>\n",
       "      <td>GatherMate2 question. Red=location, Yellow=coo...</td>\n",
       "      <td></td>\n",
       "      <td>1.571437e+09</td>\n",
       "      <td>GatherMate2 question. Red=location, Yellow=coo...</td>\n",
       "      <td>1</td>\n",
       "      <td>gathermate2 question red locat yellow coord gr...</td>\n",
       "    </tr>\n",
       "    <tr>\n",
       "      <td>23</td>\n",
       "      <td>World of Warcraft Classic - EP1 | Troll Hunter</td>\n",
       "      <td></td>\n",
       "      <td>1.571432e+09</td>\n",
       "      <td>World of Warcraft Classic - EP1 | Troll Hunter</td>\n",
       "      <td>1</td>\n",
       "      <td>world of warcraft classic ep1 troll hunter</td>\n",
       "    </tr>\n",
       "    <tr>\n",
       "      <td>28</td>\n",
       "      <td>Realm of Shadows leak on 4chan</td>\n",
       "      <td></td>\n",
       "      <td>1.571431e+09</td>\n",
       "      <td>Realm of Shadows leak on 4chan</td>\n",
       "      <td>1</td>\n",
       "      <td>realm of shadow leak on 4chan</td>\n",
       "    </tr>\n",
       "    <tr>\n",
       "      <td>31</td>\n",
       "      <td>You Shall Not Pass!</td>\n",
       "      <td></td>\n",
       "      <td>1.571431e+09</td>\n",
       "      <td>You Shall Not Pass!</td>\n",
       "      <td>1</td>\n",
       "      <td>you shall not pass</td>\n",
       "    </tr>\n",
       "    <tr>\n",
       "      <td>...</td>\n",
       "      <td>...</td>\n",
       "      <td>...</td>\n",
       "      <td>...</td>\n",
       "      <td>...</td>\n",
       "      <td>...</td>\n",
       "      <td>...</td>\n",
       "    </tr>\n",
       "    <tr>\n",
       "      <td>1948</td>\n",
       "      <td>Are Shamans Really That Bad as dps?</td>\n",
       "      <td>I wanna play a shaman, they look very fun and ...</td>\n",
       "      <td>1.571196e+09</td>\n",
       "      <td>Are Shamans Really That Bad as dps?I wanna pla...</td>\n",
       "      <td>0</td>\n",
       "      <td>are shaman realli that bad as dp wanna play sh...</td>\n",
       "    </tr>\n",
       "    <tr>\n",
       "      <td>1959</td>\n",
       "      <td>WoW icon photography</td>\n",
       "      <td>I had an idea that I thought would be really c...</td>\n",
       "      <td>1.571195e+09</td>\n",
       "      <td>WoW icon photographyI had an idea that I thoug...</td>\n",
       "      <td>0</td>\n",
       "      <td>wow icon photographyi had an idea that thought...</td>\n",
       "    </tr>\n",
       "    <tr>\n",
       "      <td>1962</td>\n",
       "      <td>Wouldn't it be cool if..</td>\n",
       "      <td>Blizzard made a server where you only have 1 l...</td>\n",
       "      <td>1.571195e+09</td>\n",
       "      <td>Wouldn't it be cool if..Blizzard made a server...</td>\n",
       "      <td>0</td>\n",
       "      <td>wouldn it be cool if blizzard made server wher...</td>\n",
       "    </tr>\n",
       "    <tr>\n",
       "      <td>1966</td>\n",
       "      <td>Activision Blizzard is stance dancing now that...</td>\n",
       "      <td></td>\n",
       "      <td>1.571194e+09</td>\n",
       "      <td>Activision Blizzard is stance dancing now that...</td>\n",
       "      <td>0</td>\n",
       "      <td>activis blizzard is stanc danc now that think ...</td>\n",
       "    </tr>\n",
       "    <tr>\n",
       "      <td>1975</td>\n",
       "      <td>Rotation Help for Disabled Gamer</td>\n",
       "      <td></td>\n",
       "      <td>1.571192e+09</td>\n",
       "      <td>Rotation Help for Disabled Gamer</td>\n",
       "      <td>0</td>\n",
       "      <td>rotat help for disabl gamer</td>\n",
       "    </tr>\n",
       "  </tbody>\n",
       "</table>\n",
       "<p>399 rows × 6 columns</p>\n",
       "</div>"
      ],
      "text/plain": [
       "                                                  title  \\\n",
       "7                  Hallow's End Guide! With Spreadsheet   \n",
       "14    GatherMate2 question. Red=location, Yellow=coo...   \n",
       "23       World of Warcraft Classic - EP1 | Troll Hunter   \n",
       "28                       Realm of Shadows leak on 4chan   \n",
       "31                                  You Shall Not Pass!   \n",
       "...                                                 ...   \n",
       "1948                Are Shamans Really That Bad as dps?   \n",
       "1959                               WoW icon photography   \n",
       "1962                           Wouldn't it be cool if..   \n",
       "1966  Activision Blizzard is stance dancing now that...   \n",
       "1975                   Rotation Help for Disabled Gamer   \n",
       "\n",
       "                                                   body       created  \\\n",
       "7      Hello just wanted to share this with yall i s...  1.571438e+09   \n",
       "14                                                       1.571437e+09   \n",
       "23                                                       1.571432e+09   \n",
       "28                                                       1.571431e+09   \n",
       "31                                                       1.571431e+09   \n",
       "...                                                 ...           ...   \n",
       "1948  I wanna play a shaman, they look very fun and ...  1.571196e+09   \n",
       "1959  I had an idea that I thought would be really c...  1.571195e+09   \n",
       "1962  Blizzard made a server where you only have 1 l...  1.571195e+09   \n",
       "1966                                                     1.571194e+09   \n",
       "1975                                                     1.571192e+09   \n",
       "\n",
       "                                                      X  y  \\\n",
       "7     Hallow's End Guide! With Spreadsheet Hello jus...  1   \n",
       "14    GatherMate2 question. Red=location, Yellow=coo...  1   \n",
       "23       World of Warcraft Classic - EP1 | Troll Hunter  1   \n",
       "28                       Realm of Shadows leak on 4chan  1   \n",
       "31                                  You Shall Not Pass!  1   \n",
       "...                                                 ... ..   \n",
       "1948  Are Shamans Really That Bad as dps?I wanna pla...  0   \n",
       "1959  WoW icon photographyI had an idea that I thoug...  0   \n",
       "1962  Wouldn't it be cool if..Blizzard made a server...  0   \n",
       "1966  Activision Blizzard is stance dancing now that...  0   \n",
       "1975                   Rotation Help for Disabled Gamer  0   \n",
       "\n",
       "                                                     Xs  \n",
       "7     hallow end guid with spreadsheet hello just wa...  \n",
       "14    gathermate2 question red locat yellow coord gr...  \n",
       "23           world of warcraft classic ep1 troll hunter  \n",
       "28                        realm of shadow leak on 4chan  \n",
       "31                                   you shall not pass  \n",
       "...                                                 ...  \n",
       "1948  are shaman realli that bad as dp wanna play sh...  \n",
       "1959  wow icon photographyi had an idea that thought...  \n",
       "1962  wouldn it be cool if blizzard made server wher...  \n",
       "1966  activis blizzard is stanc danc now that think ...  \n",
       "1975                        rotat help for disabl gamer  \n",
       "\n",
       "[399 rows x 6 columns]"
      ]
     },
     "execution_count": 35,
     "metadata": {},
     "output_type": "execute_result"
    }
   ],
   "source": [
    "mistake # checking to see the mis classified articles. "
   ]
  },
  {
   "cell_type": "code",
   "execution_count": null,
   "metadata": {},
   "outputs": [],
   "source": []
  }
 ],
 "metadata": {
  "kernelspec": {
   "display_name": "Python 3",
   "language": "python",
   "name": "python3"
  },
  "language_info": {
   "codemirror_mode": {
    "name": "ipython",
    "version": 3
   },
   "file_extension": ".py",
   "mimetype": "text/x-python",
   "name": "python",
   "nbconvert_exporter": "python",
   "pygments_lexer": "ipython3",
   "version": "3.7.3"
  }
 },
 "nbformat": 4,
 "nbformat_minor": 2
}
